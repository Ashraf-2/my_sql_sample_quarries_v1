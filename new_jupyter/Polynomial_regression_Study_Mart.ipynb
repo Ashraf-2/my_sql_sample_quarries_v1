{
 "cells": [
  {
   "cell_type": "markdown",
   "id": "0e0dd7c6-2ab5-45e9-95f7-eda9d7a6b3aa",
   "metadata": {},
   "source": [
    "# Polynomial Regression \n",
    "\n",
    "Source: Aksadur Rahman - Youtube channel"
   ]
  },
  {
   "cell_type": "raw",
   "id": "94759d6f-703d-4955-a971-5a282aa291f1",
   "metadata": {},
   "source": [
    "Types of Polynomials: \n",
    "\n",
    "1. Linear => y = mx+c\n",
    "2. Quadratic => y = m1x**2 + m2x + c\n",
    "3. Cubic => y = m1 x**3 + m2 x**2 + m3 x + c\n",
    "4. Quartic\n",
    "5. Quintic"
   ]
  },
  {
   "cell_type": "code",
   "execution_count": 3,
   "id": "b3c0f2c3-7c3d-4af7-a9d3-f18c47306f76",
   "metadata": {},
   "outputs": [],
   "source": [
    "import pandas as pd \n",
    "import numpy as np \n"
   ]
  },
  {
   "cell_type": "code",
   "execution_count": null,
   "id": "6dd9861f-ac7c-4fc4-9067-dd8521083f3f",
   "metadata": {},
   "outputs": [],
   "source": []
  },
  {
   "cell_type": "code",
   "execution_count": null,
   "id": "17add275-b3f0-4157-a49e-04b4878e6b60",
   "metadata": {},
   "outputs": [],
   "source": []
  },
  {
   "cell_type": "code",
   "execution_count": null,
   "id": "9d2e56ca-a6d6-4bd9-9c05-8b8865e998f5",
   "metadata": {},
   "outputs": [],
   "source": []
  },
  {
   "cell_type": "code",
   "execution_count": null,
   "id": "179694f5-6dc6-4209-abe5-af108ef9af36",
   "metadata": {},
   "outputs": [],
   "source": []
  },
  {
   "cell_type": "code",
   "execution_count": null,
   "id": "9b366b85-6f67-424d-9fb0-aeba94a6e89f",
   "metadata": {},
   "outputs": [],
   "source": []
  },
  {
   "cell_type": "code",
   "execution_count": null,
   "id": "276b17e3-3e78-4128-8c9e-a5cfc72ece97",
   "metadata": {},
   "outputs": [],
   "source": []
  },
  {
   "cell_type": "code",
   "execution_count": null,
   "id": "df65472d-2f26-489e-b17c-28ff8c65164f",
   "metadata": {},
   "outputs": [],
   "source": []
  },
  {
   "cell_type": "code",
   "execution_count": null,
   "id": "6c141df0-8c5b-4280-b5d2-86998289084e",
   "metadata": {},
   "outputs": [],
   "source": []
  },
  {
   "cell_type": "code",
   "execution_count": null,
   "id": "31fac515-2d20-48a0-94c5-ce1347bfd077",
   "metadata": {},
   "outputs": [],
   "source": []
  },
  {
   "cell_type": "code",
   "execution_count": null,
   "id": "628d24c7-47ec-4014-b917-e2c705674643",
   "metadata": {},
   "outputs": [],
   "source": []
  },
  {
   "cell_type": "code",
   "execution_count": null,
   "id": "a277674b-8952-4f1f-9ba9-49680c7cb1fd",
   "metadata": {},
   "outputs": [],
   "source": []
  },
  {
   "cell_type": "code",
   "execution_count": null,
   "id": "be4eb78d-2c2f-4379-8efe-0ae888a69d89",
   "metadata": {},
   "outputs": [],
   "source": []
  },
  {
   "cell_type": "code",
   "execution_count": null,
   "id": "ef64d658-a65f-4b32-b19a-e6d9e4cacd35",
   "metadata": {},
   "outputs": [],
   "source": []
  },
  {
   "cell_type": "code",
   "execution_count": null,
   "id": "eb978505-1766-4d35-b6b4-7bff3da92714",
   "metadata": {},
   "outputs": [],
   "source": []
  },
  {
   "cell_type": "code",
   "execution_count": null,
   "id": "69ffb1ef-7f50-4117-912c-257e4ca288dc",
   "metadata": {},
   "outputs": [],
   "source": []
  },
  {
   "cell_type": "code",
   "execution_count": null,
   "id": "5e3007a8-73f4-4b80-a9a0-0735b48756e4",
   "metadata": {},
   "outputs": [],
   "source": []
  },
  {
   "cell_type": "code",
   "execution_count": null,
   "id": "4dd06b6a-65a0-49d6-a6b5-670384731f21",
   "metadata": {},
   "outputs": [],
   "source": []
  },
  {
   "cell_type": "code",
   "execution_count": null,
   "id": "467bbb58-588e-41f0-8693-88a7cf8669a7",
   "metadata": {},
   "outputs": [],
   "source": []
  },
  {
   "cell_type": "code",
   "execution_count": null,
   "id": "f67aa823-5e39-495e-a28d-fb7611f06c00",
   "metadata": {},
   "outputs": [],
   "source": []
  },
  {
   "cell_type": "code",
   "execution_count": null,
   "id": "f7d29b62-a181-472c-ba6a-91d60ba4f98d",
   "metadata": {},
   "outputs": [],
   "source": []
  },
  {
   "cell_type": "code",
   "execution_count": null,
   "id": "286f73f6-328c-43d7-8e44-e3303b9ac169",
   "metadata": {},
   "outputs": [],
   "source": []
  },
  {
   "cell_type": "code",
   "execution_count": null,
   "id": "d77496c9-e335-41c8-8a53-34bd6c2d2539",
   "metadata": {},
   "outputs": [],
   "source": []
  },
  {
   "cell_type": "code",
   "execution_count": null,
   "id": "6054edeb-6abd-49ad-8270-f3af6f179b64",
   "metadata": {},
   "outputs": [],
   "source": []
  },
  {
   "cell_type": "code",
   "execution_count": null,
   "id": "d4c353fa-1146-4483-baae-0633805f8be6",
   "metadata": {},
   "outputs": [],
   "source": []
  },
  {
   "cell_type": "code",
   "execution_count": null,
   "id": "654d4912-ca2a-4e70-80e7-89ff6743607c",
   "metadata": {},
   "outputs": [],
   "source": []
  },
  {
   "cell_type": "code",
   "execution_count": null,
   "id": "4370064f-e162-4091-88ab-45fbd7d3c243",
   "metadata": {},
   "outputs": [],
   "source": []
  },
  {
   "cell_type": "code",
   "execution_count": null,
   "id": "e5a85cde-09e8-47cb-b5a8-72b43992eac0",
   "metadata": {},
   "outputs": [],
   "source": []
  },
  {
   "cell_type": "code",
   "execution_count": null,
   "id": "27fb4d60-35cd-4c3c-95ff-8a57b7db3ef0",
   "metadata": {},
   "outputs": [],
   "source": []
  },
  {
   "cell_type": "code",
   "execution_count": null,
   "id": "7e7e01e8-8019-4f2a-af73-a4123ae33abc",
   "metadata": {},
   "outputs": [],
   "source": []
  },
  {
   "cell_type": "code",
   "execution_count": null,
   "id": "58aa9123-34e3-4bbe-bf80-cbaab53618d4",
   "metadata": {},
   "outputs": [],
   "source": []
  },
  {
   "cell_type": "code",
   "execution_count": null,
   "id": "78748149-ac9c-4e12-8fdd-7857fe2e42a8",
   "metadata": {},
   "outputs": [],
   "source": []
  },
  {
   "cell_type": "code",
   "execution_count": null,
   "id": "627e1773-e2ca-416b-8f3a-b93bda2a5045",
   "metadata": {},
   "outputs": [],
   "source": []
  },
  {
   "cell_type": "code",
   "execution_count": null,
   "id": "4bafb2af-a2c9-47ee-994e-0a2e2c206eab",
   "metadata": {},
   "outputs": [],
   "source": []
  },
  {
   "cell_type": "code",
   "execution_count": null,
   "id": "6ad10826-7a64-4dbd-9767-895ae6f09148",
   "metadata": {},
   "outputs": [],
   "source": []
  },
  {
   "cell_type": "code",
   "execution_count": null,
   "id": "9499d9c4-129e-4743-9ce1-9d3c3b7ad822",
   "metadata": {},
   "outputs": [],
   "source": []
  },
  {
   "cell_type": "code",
   "execution_count": null,
   "id": "e6daad6e-f484-421d-b873-1424877f343d",
   "metadata": {},
   "outputs": [],
   "source": []
  },
  {
   "cell_type": "code",
   "execution_count": null,
   "id": "e981cef4-7282-49ee-9d2c-d761d68659a6",
   "metadata": {},
   "outputs": [],
   "source": []
  },
  {
   "cell_type": "code",
   "execution_count": null,
   "id": "494b44e2-9720-4fe8-b7e5-0143541c169c",
   "metadata": {},
   "outputs": [],
   "source": []
  },
  {
   "cell_type": "code",
   "execution_count": null,
   "id": "567360f6-5d0d-42db-98f8-9adbbf882ead",
   "metadata": {},
   "outputs": [],
   "source": []
  },
  {
   "cell_type": "code",
   "execution_count": null,
   "id": "981236f7-240b-4c9b-afee-bd2c760d66b0",
   "metadata": {},
   "outputs": [],
   "source": []
  },
  {
   "cell_type": "code",
   "execution_count": null,
   "id": "7740c033-e905-4a0e-a9f6-b52780f8a2b5",
   "metadata": {},
   "outputs": [],
   "source": []
  },
  {
   "cell_type": "code",
   "execution_count": null,
   "id": "a6c59980-588a-4b39-8ed3-e172ff9a56e2",
   "metadata": {},
   "outputs": [],
   "source": []
  },
  {
   "cell_type": "code",
   "execution_count": null,
   "id": "5e9829fa-2e6e-48c6-9fa6-229c16d12289",
   "metadata": {},
   "outputs": [],
   "source": []
  }
 ],
 "metadata": {
  "kernelspec": {
   "display_name": "Python 3 (ipykernel)",
   "language": "python",
   "name": "python3"
  },
  "language_info": {
   "codemirror_mode": {
    "name": "ipython",
    "version": 3
   },
   "file_extension": ".py",
   "mimetype": "text/x-python",
   "name": "python",
   "nbconvert_exporter": "python",
   "pygments_lexer": "ipython3",
   "version": "3.12.7"
  }
 },
 "nbformat": 4,
 "nbformat_minor": 5
}
